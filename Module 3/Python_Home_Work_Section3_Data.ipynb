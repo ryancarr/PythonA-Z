{
 "cells": [
  {
   "cell_type": "code",
   "execution_count": 10,
   "metadata": {},
   "outputs": [],
   "source": [
    "# Calculate the following - Precision while doing math to 2 decimal places, precision when outputting 1k without decimals\n",
    "# profit for each month\n",
    "# profit after tax (30% tax rate)\n",
    "# profit margin  (profit after tax / revenue)\n",
    "# good months - margin > mean\n",
    "# bad months - margin < mean\n",
    "# best month - max profit for year\n",
    "# worst month - min profit for the year\n",
    "import numpy as np"
   ]
  },
  {
   "cell_type": "code",
   "execution_count": 6,
   "metadata": {},
   "outputs": [],
   "source": [
    "#Data \n",
    "revenue = [14574.49, 7606.46, 8611.41, 9175.41, 8058.65, 8105.44, 11496.28, 9766.09, 10305.32, 14379.96, 10713.97, 15433.50]\n",
    "expenses = [12051.82, 5695.07, 12319.20, 12089.72, 8658.57, 840.20, 3285.73, 5821.12, 6976.93, 16618.61, 10054.37, 3803.96]"
   ]
  },
  {
   "cell_type": "code",
   "execution_count": 20,
   "metadata": {},
   "outputs": [],
   "source": [
    "profit = [round(revenue[i] - expenses[i],2) for i in range(len(revenue))]\n",
    "after_tax = [round(profit[i] * .3, 2) for i in range(len(revenue))]\n",
    "margin = [round(after_tax[i] / revenue[i],2) * 100 for i in range(len(revenue))]\n",
    "mean = np.average(margin)\n",
    "good = [margin[i] > mean for i in range(len(revenue))]\n",
    "bad = [margin[i] < mean for i in range(len(revenue))]\n",
    "best = max(margin)\n",
    "worst = min(margin)"
   ]
  },
  {
   "cell_type": "code",
   "execution_count": 21,
   "metadata": {},
   "outputs": [
    {
     "name": "stdout",
     "output_type": "stream",
     "text": [
      "[2522.67, 1911.39, -3707.79, -2914.31, -599.92, 7265.24, 8210.55, 3944.97, 3328.39, -2238.65, 659.6, 11629.54]\n",
      "[756.8, 573.42, -1112.34, -874.29, -179.98, 2179.57, 2463.16, 1183.49, 998.52, -671.6, 197.88, 3488.86]\n",
      "[5.0, 8.0, -13.0, -10.0, -2.0, 27.0, 21.0, 12.0, 10.0, -5.0, 2.0, 23.0]\n",
      "[False, True, False, False, False, True, True, True, True, False, False, True]\n",
      "[True, False, True, True, True, False, False, False, False, True, True, False]\n",
      "27.0\n",
      "-13.0\n"
     ]
    }
   ],
   "source": [
    "print(profit)\n",
    "print(after_tax)\n",
    "print(margin)\n",
    "print(good)\n",
    "print(bad)\n",
    "print(best)\n",
    "print(worst)"
   ]
  },
  {
   "cell_type": "code",
   "execution_count": null,
   "metadata": {},
   "outputs": [],
   "source": []
  }
 ],
 "metadata": {
  "kernelspec": {
   "display_name": "Python 3 (ipykernel)",
   "language": "python",
   "name": "python3"
  },
  "language_info": {
   "codemirror_mode": {
    "name": "ipython",
    "version": 3
   },
   "file_extension": ".py",
   "mimetype": "text/x-python",
   "name": "python",
   "nbconvert_exporter": "python",
   "pygments_lexer": "ipython3",
   "version": "3.9.13"
  }
 },
 "nbformat": 4,
 "nbformat_minor": 1
}
