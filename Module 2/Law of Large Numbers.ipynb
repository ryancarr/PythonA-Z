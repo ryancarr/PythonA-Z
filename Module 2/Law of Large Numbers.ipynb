{
 "cells": [
  {
   "cell_type": "code",
   "execution_count": 1,
   "id": "0ef09e32",
   "metadata": {},
   "outputs": [],
   "source": [
    "# Test the Law of Large Numbers for N random normally distributed numbers with mean = 0 stddev = 1\n",
    "# Create a Python script that will count how many of these numbers fall between -1 and 1 and divide by N\n",
    "# E(X) = 68.2% or 0.682"
   ]
  },
  {
   "cell_type": "code",
   "execution_count": 5,
   "id": "c3939bf9",
   "metadata": {},
   "outputs": [],
   "source": [
    "from numpy.random import randn"
   ]
  },
  {
   "cell_type": "code",
   "execution_count": 36,
   "id": "7d6bf70f",
   "metadata": {},
   "outputs": [
    {
     "name": "stdout",
     "output_type": "stream",
     "text": [
      "Mean = 0.7\n"
     ]
    }
   ],
   "source": [
    "N = 100 # Around 1000000 it converges\n",
    "count = 0\n",
    "\n",
    "for i in randn(N):\n",
    "    if i < 1 and i > -1:\n",
    "        count += 1\n",
    "\n",
    "mean = count / N\n",
    "print(\"Mean =\", mean)"
   ]
  },
  {
   "cell_type": "code",
   "execution_count": null,
   "id": "8fefb7e3",
   "metadata": {},
   "outputs": [],
   "source": []
  }
 ],
 "metadata": {
  "kernelspec": {
   "display_name": "Python 3 (ipykernel)",
   "language": "python",
   "name": "python3"
  },
  "language_info": {
   "codemirror_mode": {
    "name": "ipython",
    "version": 3
   },
   "file_extension": ".py",
   "mimetype": "text/x-python",
   "name": "python",
   "nbconvert_exporter": "python",
   "pygments_lexer": "ipython3",
   "version": "3.9.13"
  }
 },
 "nbformat": 4,
 "nbformat_minor": 5
}
